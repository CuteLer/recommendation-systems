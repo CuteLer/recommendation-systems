{
 "cells": [
  {
   "cell_type": "markdown",
   "source": [
    "Необходимо написать функцию, которая принимает на вход pandas DataFrame состоящий из N столбцов и дополнительный строковый аргумент, означающий тип заполнения пропусков:\n",
    "- k столбцов будут численными значениями(numerical) и.они будут полностью заполнены\n",
    "- n-k столбцов будут object - и могут содержать пропуски\n",
    "\n",
    "Необходимо, чтобы функция возвращала датасет без пропусков и реализовывала следующие методы заполнения:\n",
    "- пустыми строками\n",
    "- наиболее используемыми значеними"
   ],
   "metadata": {
    "collapsed": false
   },
   "id": "64991f9f8c750560"
  },
  {
   "cell_type": "code",
   "execution_count": 58,
   "outputs": [],
   "source": [
    "import pandas as pd\n",
    "\n",
    "def print_most_frequent_values(df):\n",
    "    obj_columns = df.select_dtypes(include='object')\n",
    "    for col in obj_columns:\n",
    "        val_counts = df[col].value_counts()\n",
    "        print(col)\n",
    "        print('\\t' + str(val_counts.index[0]) + ': ' + str(val_counts[0]))\n",
    "        print('\\tempty: ' + str(df[col].isna().sum()))\n",
    "\n",
    "def fill_missing_values(df: pd.DataFrame, fill_type: str = 'empty'):\n",
    "    result_df = df.copy()\n",
    "    \n",
    "    match fill_type:\n",
    "        case 'empty':\n",
    "            result_df.fillna('', inplace=True)\n",
    "        case 'most_frequent':\n",
    "            obj_col = result_df.select_dtypes(include='object')\n",
    "            for col in obj_col:\n",
    "                result_df[col].fillna(result_df[col].value_counts().index[0], inplace=True)\n",
    "\n",
    "    return result_df\n"
   ],
   "metadata": {
    "collapsed": false,
    "ExecuteTime": {
     "end_time": "2024-01-12T22:31:34.104774600Z",
     "start_time": "2024-01-12T22:31:34.080321600Z"
    }
   },
   "id": "d289471aabcc5422"
  },
  {
   "cell_type": "code",
   "execution_count": 50,
   "outputs": [
    {
     "data": {
      "text/plain": "        Unnamed: 0         UserID   Gender  LocationID      City  \\\n0                0  tw-1267804344  Unknown         1.0   Elbasan   \n1                1    tw-27229880     Male         2.0    Tirana   \n2                2    tw-27229880     Male         2.0    Tirana   \n3                3    tw-27229880     Male         2.0    Tirana   \n4                4    tw-27229880     Male         2.0    Tirana   \n...            ...            ...      ...         ...       ...   \n102057      102057     tw-8184962     Male      6288.0    Harare   \n102058      102058  tw-2510632527  Unknown      6288.0    Harare   \n102059      102059   tw-148753637  Unknown      6288.0    Harare   \n102060      102060   tw-448919812   Unisex      6288.0    Harare   \n102061      102061   tw-252561397  Unknown      6289.0  Bulawayo   \n\n                  State StateCode   Country                TweetID  Hour  Day  \\\n0               Elbasan        AL   Albania  tw-698155297102295041     7   12   \n1                Tirane        AL   Albania  tw-685159757209059329    11    7   \n2                Tirane        AL   Albania  tw-686907710311378944     6   12   \n3                Tirane        AL   Albania  tw-686968158050201600    10   12   \n4                Tirane        AL   Albania  tw-690210449674092545     9   21   \n...                 ...       ...       ...                    ...   ...  ...   \n102057  Harare Province        ZW  Zimbabwe  tw-696378029526933504    10    7   \n102058  Harare Province        ZW  Zimbabwe  tw-686895097175228416     5   12   \n102059  Harare Province        ZW  Zimbabwe  tw-709632884269785088     0   15   \n102060  Harare Province        ZW  Zimbabwe  tw-705055534920163328     8    2   \n102061         Bulawayo        ZW  Zimbabwe  tw-701487153818238976    12   21   \n\n          Weekday  IsReshare   Reach  RetweetCount  Likes  Klout  Sentiment  \\\n0          Friday       True   339.0         127.0    0.0   44.0        0.0   \n1        Thursday      False    87.0           0.0    0.0   22.0        0.0   \n2         Tuesday      False    87.0           0.0    0.0   22.0        0.0   \n3         Tuesday      False    87.0           0.0    0.0   22.0        0.0   \n4        Thursday      False    85.0           0.0    0.0   21.0        0.0   \n...           ...        ...     ...           ...    ...    ...        ...   \n102057     Sunday       True  1203.0           3.0    0.0   44.0        3.0   \n102058    Tuesday       True   976.0         102.0    0.0   31.0        0.0   \n102059    Tuesday      False  4876.0           0.0    0.0   49.0        1.0   \n102060  Wednesday       True   188.0           5.0    0.0   37.0        0.0   \n102061     Sunday       True   199.0           3.0    0.0   23.0        0.0   \n\n       Lang                                               text  \n0        en  \"RT @AdrianRusso82: Our Innovation Lab is offi...  \n1        en  Now Open  AWS Asia Pacific (Seoul) Region via ...  \n2        en  A Beginner's Guide to Scaling to 11 Million+ U...  \n3        en  Bridging AWS and Azure environments via VPN vi...  \n4        en  ELK on AWS ElasticSearch Service + ElasticBean...  \n...     ...                                                ...  \n102057   en  RT @Springcoil: Does anyone have a good workfl...  \n102058   en  RT @linuxacademyCOM: AWS CSA Associate and Pro...  \n102059   en  Curious @benthompson does this change your opi...  \n102060   en  RT @awscloud: New on the AWS Startup Blog - Wh...  \n102061   en  RT @ICTAfrica1: 15 Top Paying IT Certification...  \n\n[102062 rows x 20 columns]",
      "text/html": "<div>\n<style scoped>\n    .dataframe tbody tr th:only-of-type {\n        vertical-align: middle;\n    }\n\n    .dataframe tbody tr th {\n        vertical-align: top;\n    }\n\n    .dataframe thead th {\n        text-align: right;\n    }\n</style>\n<table border=\"1\" class=\"dataframe\">\n  <thead>\n    <tr style=\"text-align: right;\">\n      <th></th>\n      <th>Unnamed: 0</th>\n      <th>UserID</th>\n      <th>Gender</th>\n      <th>LocationID</th>\n      <th>City</th>\n      <th>State</th>\n      <th>StateCode</th>\n      <th>Country</th>\n      <th>TweetID</th>\n      <th>Hour</th>\n      <th>Day</th>\n      <th>Weekday</th>\n      <th>IsReshare</th>\n      <th>Reach</th>\n      <th>RetweetCount</th>\n      <th>Likes</th>\n      <th>Klout</th>\n      <th>Sentiment</th>\n      <th>Lang</th>\n      <th>text</th>\n    </tr>\n  </thead>\n  <tbody>\n    <tr>\n      <th>0</th>\n      <td>0</td>\n      <td>tw-1267804344</td>\n      <td>Unknown</td>\n      <td>1.0</td>\n      <td>Elbasan</td>\n      <td>Elbasan</td>\n      <td>AL</td>\n      <td>Albania</td>\n      <td>tw-698155297102295041</td>\n      <td>7</td>\n      <td>12</td>\n      <td>Friday</td>\n      <td>True</td>\n      <td>339.0</td>\n      <td>127.0</td>\n      <td>0.0</td>\n      <td>44.0</td>\n      <td>0.0</td>\n      <td>en</td>\n      <td>\"RT @AdrianRusso82: Our Innovation Lab is offi...</td>\n    </tr>\n    <tr>\n      <th>1</th>\n      <td>1</td>\n      <td>tw-27229880</td>\n      <td>Male</td>\n      <td>2.0</td>\n      <td>Tirana</td>\n      <td>Tirane</td>\n      <td>AL</td>\n      <td>Albania</td>\n      <td>tw-685159757209059329</td>\n      <td>11</td>\n      <td>7</td>\n      <td>Thursday</td>\n      <td>False</td>\n      <td>87.0</td>\n      <td>0.0</td>\n      <td>0.0</td>\n      <td>22.0</td>\n      <td>0.0</td>\n      <td>en</td>\n      <td>Now Open  AWS Asia Pacific (Seoul) Region via ...</td>\n    </tr>\n    <tr>\n      <th>2</th>\n      <td>2</td>\n      <td>tw-27229880</td>\n      <td>Male</td>\n      <td>2.0</td>\n      <td>Tirana</td>\n      <td>Tirane</td>\n      <td>AL</td>\n      <td>Albania</td>\n      <td>tw-686907710311378944</td>\n      <td>6</td>\n      <td>12</td>\n      <td>Tuesday</td>\n      <td>False</td>\n      <td>87.0</td>\n      <td>0.0</td>\n      <td>0.0</td>\n      <td>22.0</td>\n      <td>0.0</td>\n      <td>en</td>\n      <td>A Beginner's Guide to Scaling to 11 Million+ U...</td>\n    </tr>\n    <tr>\n      <th>3</th>\n      <td>3</td>\n      <td>tw-27229880</td>\n      <td>Male</td>\n      <td>2.0</td>\n      <td>Tirana</td>\n      <td>Tirane</td>\n      <td>AL</td>\n      <td>Albania</td>\n      <td>tw-686968158050201600</td>\n      <td>10</td>\n      <td>12</td>\n      <td>Tuesday</td>\n      <td>False</td>\n      <td>87.0</td>\n      <td>0.0</td>\n      <td>0.0</td>\n      <td>22.0</td>\n      <td>0.0</td>\n      <td>en</td>\n      <td>Bridging AWS and Azure environments via VPN vi...</td>\n    </tr>\n    <tr>\n      <th>4</th>\n      <td>4</td>\n      <td>tw-27229880</td>\n      <td>Male</td>\n      <td>2.0</td>\n      <td>Tirana</td>\n      <td>Tirane</td>\n      <td>AL</td>\n      <td>Albania</td>\n      <td>tw-690210449674092545</td>\n      <td>9</td>\n      <td>21</td>\n      <td>Thursday</td>\n      <td>False</td>\n      <td>85.0</td>\n      <td>0.0</td>\n      <td>0.0</td>\n      <td>21.0</td>\n      <td>0.0</td>\n      <td>en</td>\n      <td>ELK on AWS ElasticSearch Service + ElasticBean...</td>\n    </tr>\n    <tr>\n      <th>...</th>\n      <td>...</td>\n      <td>...</td>\n      <td>...</td>\n      <td>...</td>\n      <td>...</td>\n      <td>...</td>\n      <td>...</td>\n      <td>...</td>\n      <td>...</td>\n      <td>...</td>\n      <td>...</td>\n      <td>...</td>\n      <td>...</td>\n      <td>...</td>\n      <td>...</td>\n      <td>...</td>\n      <td>...</td>\n      <td>...</td>\n      <td>...</td>\n      <td>...</td>\n    </tr>\n    <tr>\n      <th>102057</th>\n      <td>102057</td>\n      <td>tw-8184962</td>\n      <td>Male</td>\n      <td>6288.0</td>\n      <td>Harare</td>\n      <td>Harare Province</td>\n      <td>ZW</td>\n      <td>Zimbabwe</td>\n      <td>tw-696378029526933504</td>\n      <td>10</td>\n      <td>7</td>\n      <td>Sunday</td>\n      <td>True</td>\n      <td>1203.0</td>\n      <td>3.0</td>\n      <td>0.0</td>\n      <td>44.0</td>\n      <td>3.0</td>\n      <td>en</td>\n      <td>RT @Springcoil: Does anyone have a good workfl...</td>\n    </tr>\n    <tr>\n      <th>102058</th>\n      <td>102058</td>\n      <td>tw-2510632527</td>\n      <td>Unknown</td>\n      <td>6288.0</td>\n      <td>Harare</td>\n      <td>Harare Province</td>\n      <td>ZW</td>\n      <td>Zimbabwe</td>\n      <td>tw-686895097175228416</td>\n      <td>5</td>\n      <td>12</td>\n      <td>Tuesday</td>\n      <td>True</td>\n      <td>976.0</td>\n      <td>102.0</td>\n      <td>0.0</td>\n      <td>31.0</td>\n      <td>0.0</td>\n      <td>en</td>\n      <td>RT @linuxacademyCOM: AWS CSA Associate and Pro...</td>\n    </tr>\n    <tr>\n      <th>102059</th>\n      <td>102059</td>\n      <td>tw-148753637</td>\n      <td>Unknown</td>\n      <td>6288.0</td>\n      <td>Harare</td>\n      <td>Harare Province</td>\n      <td>ZW</td>\n      <td>Zimbabwe</td>\n      <td>tw-709632884269785088</td>\n      <td>0</td>\n      <td>15</td>\n      <td>Tuesday</td>\n      <td>False</td>\n      <td>4876.0</td>\n      <td>0.0</td>\n      <td>0.0</td>\n      <td>49.0</td>\n      <td>1.0</td>\n      <td>en</td>\n      <td>Curious @benthompson does this change your opi...</td>\n    </tr>\n    <tr>\n      <th>102060</th>\n      <td>102060</td>\n      <td>tw-448919812</td>\n      <td>Unisex</td>\n      <td>6288.0</td>\n      <td>Harare</td>\n      <td>Harare Province</td>\n      <td>ZW</td>\n      <td>Zimbabwe</td>\n      <td>tw-705055534920163328</td>\n      <td>8</td>\n      <td>2</td>\n      <td>Wednesday</td>\n      <td>True</td>\n      <td>188.0</td>\n      <td>5.0</td>\n      <td>0.0</td>\n      <td>37.0</td>\n      <td>0.0</td>\n      <td>en</td>\n      <td>RT @awscloud: New on the AWS Startup Blog - Wh...</td>\n    </tr>\n    <tr>\n      <th>102061</th>\n      <td>102061</td>\n      <td>tw-252561397</td>\n      <td>Unknown</td>\n      <td>6289.0</td>\n      <td>Bulawayo</td>\n      <td>Bulawayo</td>\n      <td>ZW</td>\n      <td>Zimbabwe</td>\n      <td>tw-701487153818238976</td>\n      <td>12</td>\n      <td>21</td>\n      <td>Sunday</td>\n      <td>True</td>\n      <td>199.0</td>\n      <td>3.0</td>\n      <td>0.0</td>\n      <td>23.0</td>\n      <td>0.0</td>\n      <td>en</td>\n      <td>RT @ICTAfrica1: 15 Top Paying IT Certification...</td>\n    </tr>\n  </tbody>\n</table>\n<p>102062 rows × 20 columns</p>\n</div>"
     },
     "execution_count": 50,
     "metadata": {},
     "output_type": "execute_result"
    }
   ],
   "source": [
    "data = pd.read_csv('tweets-engagement-metrics.csv')\n",
    "data"
   ],
   "metadata": {
    "collapsed": false,
    "ExecuteTime": {
     "end_time": "2024-01-12T22:29:24.673381400Z",
     "start_time": "2024-01-12T22:29:23.959544600Z"
    }
   },
   "id": "4e96e38d72271077"
  },
  {
   "cell_type": "code",
   "execution_count": 59,
   "outputs": [
    {
     "name": "stdout",
     "output_type": "stream",
     "text": [
      "UserID\n",
      "\ttw-66780587: 845\n",
      "\tempty: 0\n",
      "Gender\n",
      "\tMale: 52603\n",
      "\tempty: 0\n",
      "City\n",
      "\tSeattle: 7298\n",
      "\tempty: 2279\n",
      "State\n",
      "\tCalifornia: 11734\n",
      "\tempty: 1897\n",
      "StateCode\n",
      "\tUS-CA: 11734\n",
      "\tempty: 1726\n",
      "Country\n",
      "\tUnited States: 51457\n",
      "\tempty: 0\n",
      "TweetID\n",
      "\ttw-703486262863372288: 3\n",
      "\tempty: 0\n",
      "Weekday\n",
      "\tTuesday: 18826\n",
      "\tempty: 0\n",
      "Lang\n",
      "\ten: 93564\n",
      "\tempty: 0\n",
      "text\n",
      "\tZombiler uyandnda Amazon Web Services hazr olacak http://woisio.com/en/ife-and-love/56c11506e4b0bbe73ced0931/zombiler-uyandiginda-amazon-web-services-hazir-olacak?partnerId=322: 484\n",
      "\tempty: 0\n"
     ]
    },
    {
     "name": "stderr",
     "output_type": "stream",
     "text": [
      "C:\\Users\\vm140\\AppData\\Local\\Temp\\ipykernel_13784\\2745300598.py:8: FutureWarning: Series.__getitem__ treating keys as positions is deprecated. In a future version, integer keys will always be treated as labels (consistent with DataFrame behavior). To access a value by position, use `ser.iloc[pos]`\n",
      "  print('\\t' + str(val_counts.index[0]) + ': ' + str(val_counts[0]))\n",
      "C:\\Users\\vm140\\AppData\\Local\\Temp\\ipykernel_13784\\2745300598.py:8: FutureWarning: Series.__getitem__ treating keys as positions is deprecated. In a future version, integer keys will always be treated as labels (consistent with DataFrame behavior). To access a value by position, use `ser.iloc[pos]`\n",
      "  print('\\t' + str(val_counts.index[0]) + ': ' + str(val_counts[0]))\n",
      "C:\\Users\\vm140\\AppData\\Local\\Temp\\ipykernel_13784\\2745300598.py:8: FutureWarning: Series.__getitem__ treating keys as positions is deprecated. In a future version, integer keys will always be treated as labels (consistent with DataFrame behavior). To access a value by position, use `ser.iloc[pos]`\n",
      "  print('\\t' + str(val_counts.index[0]) + ': ' + str(val_counts[0]))\n",
      "C:\\Users\\vm140\\AppData\\Local\\Temp\\ipykernel_13784\\2745300598.py:8: FutureWarning: Series.__getitem__ treating keys as positions is deprecated. In a future version, integer keys will always be treated as labels (consistent with DataFrame behavior). To access a value by position, use `ser.iloc[pos]`\n",
      "  print('\\t' + str(val_counts.index[0]) + ': ' + str(val_counts[0]))\n",
      "C:\\Users\\vm140\\AppData\\Local\\Temp\\ipykernel_13784\\2745300598.py:8: FutureWarning: Series.__getitem__ treating keys as positions is deprecated. In a future version, integer keys will always be treated as labels (consistent with DataFrame behavior). To access a value by position, use `ser.iloc[pos]`\n",
      "  print('\\t' + str(val_counts.index[0]) + ': ' + str(val_counts[0]))\n",
      "C:\\Users\\vm140\\AppData\\Local\\Temp\\ipykernel_13784\\2745300598.py:8: FutureWarning: Series.__getitem__ treating keys as positions is deprecated. In a future version, integer keys will always be treated as labels (consistent with DataFrame behavior). To access a value by position, use `ser.iloc[pos]`\n",
      "  print('\\t' + str(val_counts.index[0]) + ': ' + str(val_counts[0]))\n",
      "C:\\Users\\vm140\\AppData\\Local\\Temp\\ipykernel_13784\\2745300598.py:8: FutureWarning: Series.__getitem__ treating keys as positions is deprecated. In a future version, integer keys will always be treated as labels (consistent with DataFrame behavior). To access a value by position, use `ser.iloc[pos]`\n",
      "  print('\\t' + str(val_counts.index[0]) + ': ' + str(val_counts[0]))\n",
      "C:\\Users\\vm140\\AppData\\Local\\Temp\\ipykernel_13784\\2745300598.py:8: FutureWarning: Series.__getitem__ treating keys as positions is deprecated. In a future version, integer keys will always be treated as labels (consistent with DataFrame behavior). To access a value by position, use `ser.iloc[pos]`\n",
      "  print('\\t' + str(val_counts.index[0]) + ': ' + str(val_counts[0]))\n",
      "C:\\Users\\vm140\\AppData\\Local\\Temp\\ipykernel_13784\\2745300598.py:8: FutureWarning: Series.__getitem__ treating keys as positions is deprecated. In a future version, integer keys will always be treated as labels (consistent with DataFrame behavior). To access a value by position, use `ser.iloc[pos]`\n",
      "  print('\\t' + str(val_counts.index[0]) + ': ' + str(val_counts[0]))\n",
      "C:\\Users\\vm140\\AppData\\Local\\Temp\\ipykernel_13784\\2745300598.py:8: FutureWarning: Series.__getitem__ treating keys as positions is deprecated. In a future version, integer keys will always be treated as labels (consistent with DataFrame behavior). To access a value by position, use `ser.iloc[pos]`\n",
      "  print('\\t' + str(val_counts.index[0]) + ': ' + str(val_counts[0]))\n"
     ]
    }
   ],
   "source": [
    "print_most_frequent_values(data)"
   ],
   "metadata": {
    "collapsed": false,
    "ExecuteTime": {
     "end_time": "2024-01-12T22:31:36.195087600Z",
     "start_time": "2024-01-12T22:31:36.005124900Z"
    }
   },
   "id": "33f39b4e61ccfab7"
  },
  {
   "cell_type": "code",
   "execution_count": 60,
   "outputs": [
    {
     "data": {
      "text/plain": "        Unnamed: 0         UserID   Gender  LocationID      City  \\\n0                0  tw-1267804344  Unknown         1.0   Elbasan   \n1                1    tw-27229880     Male         2.0    Tirana   \n2                2    tw-27229880     Male         2.0    Tirana   \n3                3    tw-27229880     Male         2.0    Tirana   \n4                4    tw-27229880     Male         2.0    Tirana   \n...            ...            ...      ...         ...       ...   \n102057      102057     tw-8184962     Male      6288.0    Harare   \n102058      102058  tw-2510632527  Unknown      6288.0    Harare   \n102059      102059   tw-148753637  Unknown      6288.0    Harare   \n102060      102060   tw-448919812   Unisex      6288.0    Harare   \n102061      102061   tw-252561397  Unknown      6289.0  Bulawayo   \n\n                  State StateCode   Country                TweetID  Hour  Day  \\\n0               Elbasan        AL   Albania  tw-698155297102295041     7   12   \n1                Tirane        AL   Albania  tw-685159757209059329    11    7   \n2                Tirane        AL   Albania  tw-686907710311378944     6   12   \n3                Tirane        AL   Albania  tw-686968158050201600    10   12   \n4                Tirane        AL   Albania  tw-690210449674092545     9   21   \n...                 ...       ...       ...                    ...   ...  ...   \n102057  Harare Province        ZW  Zimbabwe  tw-696378029526933504    10    7   \n102058  Harare Province        ZW  Zimbabwe  tw-686895097175228416     5   12   \n102059  Harare Province        ZW  Zimbabwe  tw-709632884269785088     0   15   \n102060  Harare Province        ZW  Zimbabwe  tw-705055534920163328     8    2   \n102061         Bulawayo        ZW  Zimbabwe  tw-701487153818238976    12   21   \n\n          Weekday  IsReshare   Reach  RetweetCount  Likes  Klout  Sentiment  \\\n0          Friday       True   339.0         127.0    0.0   44.0        0.0   \n1        Thursday      False    87.0           0.0    0.0   22.0        0.0   \n2         Tuesday      False    87.0           0.0    0.0   22.0        0.0   \n3         Tuesday      False    87.0           0.0    0.0   22.0        0.0   \n4        Thursday      False    85.0           0.0    0.0   21.0        0.0   \n...           ...        ...     ...           ...    ...    ...        ...   \n102057     Sunday       True  1203.0           3.0    0.0   44.0        3.0   \n102058    Tuesday       True   976.0         102.0    0.0   31.0        0.0   \n102059    Tuesday      False  4876.0           0.0    0.0   49.0        1.0   \n102060  Wednesday       True   188.0           5.0    0.0   37.0        0.0   \n102061     Sunday       True   199.0           3.0    0.0   23.0        0.0   \n\n       Lang                                               text  \n0        en  \"RT @AdrianRusso82: Our Innovation Lab is offi...  \n1        en  Now Open  AWS Asia Pacific (Seoul) Region via ...  \n2        en  A Beginner's Guide to Scaling to 11 Million+ U...  \n3        en  Bridging AWS and Azure environments via VPN vi...  \n4        en  ELK on AWS ElasticSearch Service + ElasticBean...  \n...     ...                                                ...  \n102057   en  RT @Springcoil: Does anyone have a good workfl...  \n102058   en  RT @linuxacademyCOM: AWS CSA Associate and Pro...  \n102059   en  Curious @benthompson does this change your opi...  \n102060   en  RT @awscloud: New on the AWS Startup Blog - Wh...  \n102061   en  RT @ICTAfrica1: 15 Top Paying IT Certification...  \n\n[102062 rows x 20 columns]",
      "text/html": "<div>\n<style scoped>\n    .dataframe tbody tr th:only-of-type {\n        vertical-align: middle;\n    }\n\n    .dataframe tbody tr th {\n        vertical-align: top;\n    }\n\n    .dataframe thead th {\n        text-align: right;\n    }\n</style>\n<table border=\"1\" class=\"dataframe\">\n  <thead>\n    <tr style=\"text-align: right;\">\n      <th></th>\n      <th>Unnamed: 0</th>\n      <th>UserID</th>\n      <th>Gender</th>\n      <th>LocationID</th>\n      <th>City</th>\n      <th>State</th>\n      <th>StateCode</th>\n      <th>Country</th>\n      <th>TweetID</th>\n      <th>Hour</th>\n      <th>Day</th>\n      <th>Weekday</th>\n      <th>IsReshare</th>\n      <th>Reach</th>\n      <th>RetweetCount</th>\n      <th>Likes</th>\n      <th>Klout</th>\n      <th>Sentiment</th>\n      <th>Lang</th>\n      <th>text</th>\n    </tr>\n  </thead>\n  <tbody>\n    <tr>\n      <th>0</th>\n      <td>0</td>\n      <td>tw-1267804344</td>\n      <td>Unknown</td>\n      <td>1.0</td>\n      <td>Elbasan</td>\n      <td>Elbasan</td>\n      <td>AL</td>\n      <td>Albania</td>\n      <td>tw-698155297102295041</td>\n      <td>7</td>\n      <td>12</td>\n      <td>Friday</td>\n      <td>True</td>\n      <td>339.0</td>\n      <td>127.0</td>\n      <td>0.0</td>\n      <td>44.0</td>\n      <td>0.0</td>\n      <td>en</td>\n      <td>\"RT @AdrianRusso82: Our Innovation Lab is offi...</td>\n    </tr>\n    <tr>\n      <th>1</th>\n      <td>1</td>\n      <td>tw-27229880</td>\n      <td>Male</td>\n      <td>2.0</td>\n      <td>Tirana</td>\n      <td>Tirane</td>\n      <td>AL</td>\n      <td>Albania</td>\n      <td>tw-685159757209059329</td>\n      <td>11</td>\n      <td>7</td>\n      <td>Thursday</td>\n      <td>False</td>\n      <td>87.0</td>\n      <td>0.0</td>\n      <td>0.0</td>\n      <td>22.0</td>\n      <td>0.0</td>\n      <td>en</td>\n      <td>Now Open  AWS Asia Pacific (Seoul) Region via ...</td>\n    </tr>\n    <tr>\n      <th>2</th>\n      <td>2</td>\n      <td>tw-27229880</td>\n      <td>Male</td>\n      <td>2.0</td>\n      <td>Tirana</td>\n      <td>Tirane</td>\n      <td>AL</td>\n      <td>Albania</td>\n      <td>tw-686907710311378944</td>\n      <td>6</td>\n      <td>12</td>\n      <td>Tuesday</td>\n      <td>False</td>\n      <td>87.0</td>\n      <td>0.0</td>\n      <td>0.0</td>\n      <td>22.0</td>\n      <td>0.0</td>\n      <td>en</td>\n      <td>A Beginner's Guide to Scaling to 11 Million+ U...</td>\n    </tr>\n    <tr>\n      <th>3</th>\n      <td>3</td>\n      <td>tw-27229880</td>\n      <td>Male</td>\n      <td>2.0</td>\n      <td>Tirana</td>\n      <td>Tirane</td>\n      <td>AL</td>\n      <td>Albania</td>\n      <td>tw-686968158050201600</td>\n      <td>10</td>\n      <td>12</td>\n      <td>Tuesday</td>\n      <td>False</td>\n      <td>87.0</td>\n      <td>0.0</td>\n      <td>0.0</td>\n      <td>22.0</td>\n      <td>0.0</td>\n      <td>en</td>\n      <td>Bridging AWS and Azure environments via VPN vi...</td>\n    </tr>\n    <tr>\n      <th>4</th>\n      <td>4</td>\n      <td>tw-27229880</td>\n      <td>Male</td>\n      <td>2.0</td>\n      <td>Tirana</td>\n      <td>Tirane</td>\n      <td>AL</td>\n      <td>Albania</td>\n      <td>tw-690210449674092545</td>\n      <td>9</td>\n      <td>21</td>\n      <td>Thursday</td>\n      <td>False</td>\n      <td>85.0</td>\n      <td>0.0</td>\n      <td>0.0</td>\n      <td>21.0</td>\n      <td>0.0</td>\n      <td>en</td>\n      <td>ELK on AWS ElasticSearch Service + ElasticBean...</td>\n    </tr>\n    <tr>\n      <th>...</th>\n      <td>...</td>\n      <td>...</td>\n      <td>...</td>\n      <td>...</td>\n      <td>...</td>\n      <td>...</td>\n      <td>...</td>\n      <td>...</td>\n      <td>...</td>\n      <td>...</td>\n      <td>...</td>\n      <td>...</td>\n      <td>...</td>\n      <td>...</td>\n      <td>...</td>\n      <td>...</td>\n      <td>...</td>\n      <td>...</td>\n      <td>...</td>\n      <td>...</td>\n    </tr>\n    <tr>\n      <th>102057</th>\n      <td>102057</td>\n      <td>tw-8184962</td>\n      <td>Male</td>\n      <td>6288.0</td>\n      <td>Harare</td>\n      <td>Harare Province</td>\n      <td>ZW</td>\n      <td>Zimbabwe</td>\n      <td>tw-696378029526933504</td>\n      <td>10</td>\n      <td>7</td>\n      <td>Sunday</td>\n      <td>True</td>\n      <td>1203.0</td>\n      <td>3.0</td>\n      <td>0.0</td>\n      <td>44.0</td>\n      <td>3.0</td>\n      <td>en</td>\n      <td>RT @Springcoil: Does anyone have a good workfl...</td>\n    </tr>\n    <tr>\n      <th>102058</th>\n      <td>102058</td>\n      <td>tw-2510632527</td>\n      <td>Unknown</td>\n      <td>6288.0</td>\n      <td>Harare</td>\n      <td>Harare Province</td>\n      <td>ZW</td>\n      <td>Zimbabwe</td>\n      <td>tw-686895097175228416</td>\n      <td>5</td>\n      <td>12</td>\n      <td>Tuesday</td>\n      <td>True</td>\n      <td>976.0</td>\n      <td>102.0</td>\n      <td>0.0</td>\n      <td>31.0</td>\n      <td>0.0</td>\n      <td>en</td>\n      <td>RT @linuxacademyCOM: AWS CSA Associate and Pro...</td>\n    </tr>\n    <tr>\n      <th>102059</th>\n      <td>102059</td>\n      <td>tw-148753637</td>\n      <td>Unknown</td>\n      <td>6288.0</td>\n      <td>Harare</td>\n      <td>Harare Province</td>\n      <td>ZW</td>\n      <td>Zimbabwe</td>\n      <td>tw-709632884269785088</td>\n      <td>0</td>\n      <td>15</td>\n      <td>Tuesday</td>\n      <td>False</td>\n      <td>4876.0</td>\n      <td>0.0</td>\n      <td>0.0</td>\n      <td>49.0</td>\n      <td>1.0</td>\n      <td>en</td>\n      <td>Curious @benthompson does this change your opi...</td>\n    </tr>\n    <tr>\n      <th>102060</th>\n      <td>102060</td>\n      <td>tw-448919812</td>\n      <td>Unisex</td>\n      <td>6288.0</td>\n      <td>Harare</td>\n      <td>Harare Province</td>\n      <td>ZW</td>\n      <td>Zimbabwe</td>\n      <td>tw-705055534920163328</td>\n      <td>8</td>\n      <td>2</td>\n      <td>Wednesday</td>\n      <td>True</td>\n      <td>188.0</td>\n      <td>5.0</td>\n      <td>0.0</td>\n      <td>37.0</td>\n      <td>0.0</td>\n      <td>en</td>\n      <td>RT @awscloud: New on the AWS Startup Blog - Wh...</td>\n    </tr>\n    <tr>\n      <th>102061</th>\n      <td>102061</td>\n      <td>tw-252561397</td>\n      <td>Unknown</td>\n      <td>6289.0</td>\n      <td>Bulawayo</td>\n      <td>Bulawayo</td>\n      <td>ZW</td>\n      <td>Zimbabwe</td>\n      <td>tw-701487153818238976</td>\n      <td>12</td>\n      <td>21</td>\n      <td>Sunday</td>\n      <td>True</td>\n      <td>199.0</td>\n      <td>3.0</td>\n      <td>0.0</td>\n      <td>23.0</td>\n      <td>0.0</td>\n      <td>en</td>\n      <td>RT @ICTAfrica1: 15 Top Paying IT Certification...</td>\n    </tr>\n  </tbody>\n</table>\n<p>102062 rows × 20 columns</p>\n</div>"
     },
     "execution_count": 60,
     "metadata": {},
     "output_type": "execute_result"
    }
   ],
   "source": [
    "data_filled_m = fill_missing_values(data, fill_type='most_frequent')\n",
    "data_filled_m"
   ],
   "metadata": {
    "collapsed": false,
    "ExecuteTime": {
     "end_time": "2024-01-12T22:31:58.769895200Z",
     "start_time": "2024-01-12T22:31:58.615108200Z"
    }
   },
   "id": "ad6c7d60dc6879ce"
  },
  {
   "cell_type": "code",
   "execution_count": 61,
   "outputs": [
    {
     "name": "stdout",
     "output_type": "stream",
     "text": [
      "UserID\n",
      "\ttw-66780587: 845\n",
      "\tempty: 0\n",
      "Gender\n",
      "\tMale: 52603\n",
      "\tempty: 0\n",
      "City\n",
      "\tSeattle: 9577\n",
      "\tempty: 0\n",
      "State\n",
      "\tCalifornia: 13631\n",
      "\tempty: 0\n",
      "StateCode\n",
      "\tUS-CA: 13460\n",
      "\tempty: 0\n",
      "Country\n",
      "\tUnited States: 51457\n",
      "\tempty: 0\n",
      "TweetID\n",
      "\ttw-703486262863372288: 3\n",
      "\tempty: 0\n",
      "Weekday\n",
      "\tTuesday: 18826\n",
      "\tempty: 0\n",
      "Lang\n",
      "\ten: 93564\n",
      "\tempty: 0\n",
      "text\n",
      "\tZombiler uyandnda Amazon Web Services hazr olacak http://woisio.com/en/ife-and-love/56c11506e4b0bbe73ced0931/zombiler-uyandiginda-amazon-web-services-hazir-olacak?partnerId=322: 484\n",
      "\tempty: 0\n"
     ]
    },
    {
     "name": "stderr",
     "output_type": "stream",
     "text": [
      "C:\\Users\\vm140\\AppData\\Local\\Temp\\ipykernel_13784\\2745300598.py:8: FutureWarning: Series.__getitem__ treating keys as positions is deprecated. In a future version, integer keys will always be treated as labels (consistent with DataFrame behavior). To access a value by position, use `ser.iloc[pos]`\n",
      "  print('\\t' + str(val_counts.index[0]) + ': ' + str(val_counts[0]))\n",
      "C:\\Users\\vm140\\AppData\\Local\\Temp\\ipykernel_13784\\2745300598.py:8: FutureWarning: Series.__getitem__ treating keys as positions is deprecated. In a future version, integer keys will always be treated as labels (consistent with DataFrame behavior). To access a value by position, use `ser.iloc[pos]`\n",
      "  print('\\t' + str(val_counts.index[0]) + ': ' + str(val_counts[0]))\n",
      "C:\\Users\\vm140\\AppData\\Local\\Temp\\ipykernel_13784\\2745300598.py:8: FutureWarning: Series.__getitem__ treating keys as positions is deprecated. In a future version, integer keys will always be treated as labels (consistent with DataFrame behavior). To access a value by position, use `ser.iloc[pos]`\n",
      "  print('\\t' + str(val_counts.index[0]) + ': ' + str(val_counts[0]))\n",
      "C:\\Users\\vm140\\AppData\\Local\\Temp\\ipykernel_13784\\2745300598.py:8: FutureWarning: Series.__getitem__ treating keys as positions is deprecated. In a future version, integer keys will always be treated as labels (consistent with DataFrame behavior). To access a value by position, use `ser.iloc[pos]`\n",
      "  print('\\t' + str(val_counts.index[0]) + ': ' + str(val_counts[0]))\n",
      "C:\\Users\\vm140\\AppData\\Local\\Temp\\ipykernel_13784\\2745300598.py:8: FutureWarning: Series.__getitem__ treating keys as positions is deprecated. In a future version, integer keys will always be treated as labels (consistent with DataFrame behavior). To access a value by position, use `ser.iloc[pos]`\n",
      "  print('\\t' + str(val_counts.index[0]) + ': ' + str(val_counts[0]))\n",
      "C:\\Users\\vm140\\AppData\\Local\\Temp\\ipykernel_13784\\2745300598.py:8: FutureWarning: Series.__getitem__ treating keys as positions is deprecated. In a future version, integer keys will always be treated as labels (consistent with DataFrame behavior). To access a value by position, use `ser.iloc[pos]`\n",
      "  print('\\t' + str(val_counts.index[0]) + ': ' + str(val_counts[0]))\n",
      "C:\\Users\\vm140\\AppData\\Local\\Temp\\ipykernel_13784\\2745300598.py:8: FutureWarning: Series.__getitem__ treating keys as positions is deprecated. In a future version, integer keys will always be treated as labels (consistent with DataFrame behavior). To access a value by position, use `ser.iloc[pos]`\n",
      "  print('\\t' + str(val_counts.index[0]) + ': ' + str(val_counts[0]))\n",
      "C:\\Users\\vm140\\AppData\\Local\\Temp\\ipykernel_13784\\2745300598.py:8: FutureWarning: Series.__getitem__ treating keys as positions is deprecated. In a future version, integer keys will always be treated as labels (consistent with DataFrame behavior). To access a value by position, use `ser.iloc[pos]`\n",
      "  print('\\t' + str(val_counts.index[0]) + ': ' + str(val_counts[0]))\n",
      "C:\\Users\\vm140\\AppData\\Local\\Temp\\ipykernel_13784\\2745300598.py:8: FutureWarning: Series.__getitem__ treating keys as positions is deprecated. In a future version, integer keys will always be treated as labels (consistent with DataFrame behavior). To access a value by position, use `ser.iloc[pos]`\n",
      "  print('\\t' + str(val_counts.index[0]) + ': ' + str(val_counts[0]))\n",
      "C:\\Users\\vm140\\AppData\\Local\\Temp\\ipykernel_13784\\2745300598.py:8: FutureWarning: Series.__getitem__ treating keys as positions is deprecated. In a future version, integer keys will always be treated as labels (consistent with DataFrame behavior). To access a value by position, use `ser.iloc[pos]`\n",
      "  print('\\t' + str(val_counts.index[0]) + ': ' + str(val_counts[0]))\n"
     ]
    }
   ],
   "source": [
    "print_most_frequent_values(data_filled_m)"
   ],
   "metadata": {
    "collapsed": false,
    "ExecuteTime": {
     "end_time": "2024-01-12T22:32:01.130899100Z",
     "start_time": "2024-01-12T22:32:00.974103700Z"
    }
   },
   "id": "1e2842a6a5a666f2"
  },
  {
   "cell_type": "code",
   "execution_count": 63,
   "outputs": [
    {
     "data": {
      "text/plain": "        Unnamed: 0         UserID   Gender  LocationID      City  \\\n0                0  tw-1267804344  Unknown         1.0   Elbasan   \n1                1    tw-27229880     Male         2.0    Tirana   \n2                2    tw-27229880     Male         2.0    Tirana   \n3                3    tw-27229880     Male         2.0    Tirana   \n4                4    tw-27229880     Male         2.0    Tirana   \n...            ...            ...      ...         ...       ...   \n102057      102057     tw-8184962     Male      6288.0    Harare   \n102058      102058  tw-2510632527  Unknown      6288.0    Harare   \n102059      102059   tw-148753637  Unknown      6288.0    Harare   \n102060      102060   tw-448919812   Unisex      6288.0    Harare   \n102061      102061   tw-252561397  Unknown      6289.0  Bulawayo   \n\n                  State StateCode   Country                TweetID  Hour  Day  \\\n0               Elbasan        AL   Albania  tw-698155297102295041     7   12   \n1                Tirane        AL   Albania  tw-685159757209059329    11    7   \n2                Tirane        AL   Albania  tw-686907710311378944     6   12   \n3                Tirane        AL   Albania  tw-686968158050201600    10   12   \n4                Tirane        AL   Albania  tw-690210449674092545     9   21   \n...                 ...       ...       ...                    ...   ...  ...   \n102057  Harare Province        ZW  Zimbabwe  tw-696378029526933504    10    7   \n102058  Harare Province        ZW  Zimbabwe  tw-686895097175228416     5   12   \n102059  Harare Province        ZW  Zimbabwe  tw-709632884269785088     0   15   \n102060  Harare Province        ZW  Zimbabwe  tw-705055534920163328     8    2   \n102061         Bulawayo        ZW  Zimbabwe  tw-701487153818238976    12   21   \n\n          Weekday  IsReshare   Reach  RetweetCount  Likes  Klout  Sentiment  \\\n0          Friday       True   339.0         127.0    0.0   44.0        0.0   \n1        Thursday      False    87.0           0.0    0.0   22.0        0.0   \n2         Tuesday      False    87.0           0.0    0.0   22.0        0.0   \n3         Tuesday      False    87.0           0.0    0.0   22.0        0.0   \n4        Thursday      False    85.0           0.0    0.0   21.0        0.0   \n...           ...        ...     ...           ...    ...    ...        ...   \n102057     Sunday       True  1203.0           3.0    0.0   44.0        3.0   \n102058    Tuesday       True   976.0         102.0    0.0   31.0        0.0   \n102059    Tuesday      False  4876.0           0.0    0.0   49.0        1.0   \n102060  Wednesday       True   188.0           5.0    0.0   37.0        0.0   \n102061     Sunday       True   199.0           3.0    0.0   23.0        0.0   \n\n       Lang                                               text  \n0        en  \"RT @AdrianRusso82: Our Innovation Lab is offi...  \n1        en  Now Open  AWS Asia Pacific (Seoul) Region via ...  \n2        en  A Beginner's Guide to Scaling to 11 Million+ U...  \n3        en  Bridging AWS and Azure environments via VPN vi...  \n4        en  ELK on AWS ElasticSearch Service + ElasticBean...  \n...     ...                                                ...  \n102057   en  RT @Springcoil: Does anyone have a good workfl...  \n102058   en  RT @linuxacademyCOM: AWS CSA Associate and Pro...  \n102059   en  Curious @benthompson does this change your opi...  \n102060   en  RT @awscloud: New on the AWS Startup Blog - Wh...  \n102061   en  RT @ICTAfrica1: 15 Top Paying IT Certification...  \n\n[102062 rows x 20 columns]",
      "text/html": "<div>\n<style scoped>\n    .dataframe tbody tr th:only-of-type {\n        vertical-align: middle;\n    }\n\n    .dataframe tbody tr th {\n        vertical-align: top;\n    }\n\n    .dataframe thead th {\n        text-align: right;\n    }\n</style>\n<table border=\"1\" class=\"dataframe\">\n  <thead>\n    <tr style=\"text-align: right;\">\n      <th></th>\n      <th>Unnamed: 0</th>\n      <th>UserID</th>\n      <th>Gender</th>\n      <th>LocationID</th>\n      <th>City</th>\n      <th>State</th>\n      <th>StateCode</th>\n      <th>Country</th>\n      <th>TweetID</th>\n      <th>Hour</th>\n      <th>Day</th>\n      <th>Weekday</th>\n      <th>IsReshare</th>\n      <th>Reach</th>\n      <th>RetweetCount</th>\n      <th>Likes</th>\n      <th>Klout</th>\n      <th>Sentiment</th>\n      <th>Lang</th>\n      <th>text</th>\n    </tr>\n  </thead>\n  <tbody>\n    <tr>\n      <th>0</th>\n      <td>0</td>\n      <td>tw-1267804344</td>\n      <td>Unknown</td>\n      <td>1.0</td>\n      <td>Elbasan</td>\n      <td>Elbasan</td>\n      <td>AL</td>\n      <td>Albania</td>\n      <td>tw-698155297102295041</td>\n      <td>7</td>\n      <td>12</td>\n      <td>Friday</td>\n      <td>True</td>\n      <td>339.0</td>\n      <td>127.0</td>\n      <td>0.0</td>\n      <td>44.0</td>\n      <td>0.0</td>\n      <td>en</td>\n      <td>\"RT @AdrianRusso82: Our Innovation Lab is offi...</td>\n    </tr>\n    <tr>\n      <th>1</th>\n      <td>1</td>\n      <td>tw-27229880</td>\n      <td>Male</td>\n      <td>2.0</td>\n      <td>Tirana</td>\n      <td>Tirane</td>\n      <td>AL</td>\n      <td>Albania</td>\n      <td>tw-685159757209059329</td>\n      <td>11</td>\n      <td>7</td>\n      <td>Thursday</td>\n      <td>False</td>\n      <td>87.0</td>\n      <td>0.0</td>\n      <td>0.0</td>\n      <td>22.0</td>\n      <td>0.0</td>\n      <td>en</td>\n      <td>Now Open  AWS Asia Pacific (Seoul) Region via ...</td>\n    </tr>\n    <tr>\n      <th>2</th>\n      <td>2</td>\n      <td>tw-27229880</td>\n      <td>Male</td>\n      <td>2.0</td>\n      <td>Tirana</td>\n      <td>Tirane</td>\n      <td>AL</td>\n      <td>Albania</td>\n      <td>tw-686907710311378944</td>\n      <td>6</td>\n      <td>12</td>\n      <td>Tuesday</td>\n      <td>False</td>\n      <td>87.0</td>\n      <td>0.0</td>\n      <td>0.0</td>\n      <td>22.0</td>\n      <td>0.0</td>\n      <td>en</td>\n      <td>A Beginner's Guide to Scaling to 11 Million+ U...</td>\n    </tr>\n    <tr>\n      <th>3</th>\n      <td>3</td>\n      <td>tw-27229880</td>\n      <td>Male</td>\n      <td>2.0</td>\n      <td>Tirana</td>\n      <td>Tirane</td>\n      <td>AL</td>\n      <td>Albania</td>\n      <td>tw-686968158050201600</td>\n      <td>10</td>\n      <td>12</td>\n      <td>Tuesday</td>\n      <td>False</td>\n      <td>87.0</td>\n      <td>0.0</td>\n      <td>0.0</td>\n      <td>22.0</td>\n      <td>0.0</td>\n      <td>en</td>\n      <td>Bridging AWS and Azure environments via VPN vi...</td>\n    </tr>\n    <tr>\n      <th>4</th>\n      <td>4</td>\n      <td>tw-27229880</td>\n      <td>Male</td>\n      <td>2.0</td>\n      <td>Tirana</td>\n      <td>Tirane</td>\n      <td>AL</td>\n      <td>Albania</td>\n      <td>tw-690210449674092545</td>\n      <td>9</td>\n      <td>21</td>\n      <td>Thursday</td>\n      <td>False</td>\n      <td>85.0</td>\n      <td>0.0</td>\n      <td>0.0</td>\n      <td>21.0</td>\n      <td>0.0</td>\n      <td>en</td>\n      <td>ELK on AWS ElasticSearch Service + ElasticBean...</td>\n    </tr>\n    <tr>\n      <th>...</th>\n      <td>...</td>\n      <td>...</td>\n      <td>...</td>\n      <td>...</td>\n      <td>...</td>\n      <td>...</td>\n      <td>...</td>\n      <td>...</td>\n      <td>...</td>\n      <td>...</td>\n      <td>...</td>\n      <td>...</td>\n      <td>...</td>\n      <td>...</td>\n      <td>...</td>\n      <td>...</td>\n      <td>...</td>\n      <td>...</td>\n      <td>...</td>\n      <td>...</td>\n    </tr>\n    <tr>\n      <th>102057</th>\n      <td>102057</td>\n      <td>tw-8184962</td>\n      <td>Male</td>\n      <td>6288.0</td>\n      <td>Harare</td>\n      <td>Harare Province</td>\n      <td>ZW</td>\n      <td>Zimbabwe</td>\n      <td>tw-696378029526933504</td>\n      <td>10</td>\n      <td>7</td>\n      <td>Sunday</td>\n      <td>True</td>\n      <td>1203.0</td>\n      <td>3.0</td>\n      <td>0.0</td>\n      <td>44.0</td>\n      <td>3.0</td>\n      <td>en</td>\n      <td>RT @Springcoil: Does anyone have a good workfl...</td>\n    </tr>\n    <tr>\n      <th>102058</th>\n      <td>102058</td>\n      <td>tw-2510632527</td>\n      <td>Unknown</td>\n      <td>6288.0</td>\n      <td>Harare</td>\n      <td>Harare Province</td>\n      <td>ZW</td>\n      <td>Zimbabwe</td>\n      <td>tw-686895097175228416</td>\n      <td>5</td>\n      <td>12</td>\n      <td>Tuesday</td>\n      <td>True</td>\n      <td>976.0</td>\n      <td>102.0</td>\n      <td>0.0</td>\n      <td>31.0</td>\n      <td>0.0</td>\n      <td>en</td>\n      <td>RT @linuxacademyCOM: AWS CSA Associate and Pro...</td>\n    </tr>\n    <tr>\n      <th>102059</th>\n      <td>102059</td>\n      <td>tw-148753637</td>\n      <td>Unknown</td>\n      <td>6288.0</td>\n      <td>Harare</td>\n      <td>Harare Province</td>\n      <td>ZW</td>\n      <td>Zimbabwe</td>\n      <td>tw-709632884269785088</td>\n      <td>0</td>\n      <td>15</td>\n      <td>Tuesday</td>\n      <td>False</td>\n      <td>4876.0</td>\n      <td>0.0</td>\n      <td>0.0</td>\n      <td>49.0</td>\n      <td>1.0</td>\n      <td>en</td>\n      <td>Curious @benthompson does this change your opi...</td>\n    </tr>\n    <tr>\n      <th>102060</th>\n      <td>102060</td>\n      <td>tw-448919812</td>\n      <td>Unisex</td>\n      <td>6288.0</td>\n      <td>Harare</td>\n      <td>Harare Province</td>\n      <td>ZW</td>\n      <td>Zimbabwe</td>\n      <td>tw-705055534920163328</td>\n      <td>8</td>\n      <td>2</td>\n      <td>Wednesday</td>\n      <td>True</td>\n      <td>188.0</td>\n      <td>5.0</td>\n      <td>0.0</td>\n      <td>37.0</td>\n      <td>0.0</td>\n      <td>en</td>\n      <td>RT @awscloud: New on the AWS Startup Blog - Wh...</td>\n    </tr>\n    <tr>\n      <th>102061</th>\n      <td>102061</td>\n      <td>tw-252561397</td>\n      <td>Unknown</td>\n      <td>6289.0</td>\n      <td>Bulawayo</td>\n      <td>Bulawayo</td>\n      <td>ZW</td>\n      <td>Zimbabwe</td>\n      <td>tw-701487153818238976</td>\n      <td>12</td>\n      <td>21</td>\n      <td>Sunday</td>\n      <td>True</td>\n      <td>199.0</td>\n      <td>3.0</td>\n      <td>0.0</td>\n      <td>23.0</td>\n      <td>0.0</td>\n      <td>en</td>\n      <td>RT @ICTAfrica1: 15 Top Paying IT Certification...</td>\n    </tr>\n  </tbody>\n</table>\n<p>102062 rows × 20 columns</p>\n</div>"
     },
     "execution_count": 63,
     "metadata": {},
     "output_type": "execute_result"
    }
   ],
   "source": [
    "data_filled_e = fill_missing_values(data)\n",
    "data_filled_e"
   ],
   "metadata": {
    "collapsed": false,
    "ExecuteTime": {
     "end_time": "2024-01-12T22:34:24.398750300Z",
     "start_time": "2024-01-12T22:34:24.305666500Z"
    }
   },
   "id": "62a2fa42b756260e"
  },
  {
   "cell_type": "code",
   "execution_count": 64,
   "outputs": [
    {
     "name": "stdout",
     "output_type": "stream",
     "text": [
      "UserID\n",
      "\ttw-66780587: 845\n",
      "\tempty: 0\n",
      "Gender\n",
      "\tMale: 52603\n",
      "\tempty: 0\n",
      "City\n",
      "\tSeattle: 7298\n",
      "\tempty: 0\n",
      "State\n",
      "\tCalifornia: 11734\n",
      "\tempty: 0\n",
      "StateCode\n",
      "\tUS-CA: 11734\n",
      "\tempty: 0\n",
      "Country\n",
      "\tUnited States: 51457\n",
      "\tempty: 0\n",
      "TweetID\n",
      "\ttw-703486262863372288: 3\n",
      "\tempty: 0\n",
      "Weekday\n",
      "\tTuesday: 18826\n",
      "\tempty: 0\n",
      "Lang\n",
      "\ten: 93564\n",
      "\tempty: 0\n",
      "text\n",
      "\tZombiler uyandnda Amazon Web Services hazr olacak http://woisio.com/en/ife-and-love/56c11506e4b0bbe73ced0931/zombiler-uyandiginda-amazon-web-services-hazir-olacak?partnerId=322: 484\n",
      "\tempty: 0\n"
     ]
    },
    {
     "name": "stderr",
     "output_type": "stream",
     "text": [
      "C:\\Users\\vm140\\AppData\\Local\\Temp\\ipykernel_13784\\2745300598.py:8: FutureWarning: Series.__getitem__ treating keys as positions is deprecated. In a future version, integer keys will always be treated as labels (consistent with DataFrame behavior). To access a value by position, use `ser.iloc[pos]`\n",
      "  print('\\t' + str(val_counts.index[0]) + ': ' + str(val_counts[0]))\n",
      "C:\\Users\\vm140\\AppData\\Local\\Temp\\ipykernel_13784\\2745300598.py:8: FutureWarning: Series.__getitem__ treating keys as positions is deprecated. In a future version, integer keys will always be treated as labels (consistent with DataFrame behavior). To access a value by position, use `ser.iloc[pos]`\n",
      "  print('\\t' + str(val_counts.index[0]) + ': ' + str(val_counts[0]))\n",
      "C:\\Users\\vm140\\AppData\\Local\\Temp\\ipykernel_13784\\2745300598.py:8: FutureWarning: Series.__getitem__ treating keys as positions is deprecated. In a future version, integer keys will always be treated as labels (consistent with DataFrame behavior). To access a value by position, use `ser.iloc[pos]`\n",
      "  print('\\t' + str(val_counts.index[0]) + ': ' + str(val_counts[0]))\n",
      "C:\\Users\\vm140\\AppData\\Local\\Temp\\ipykernel_13784\\2745300598.py:8: FutureWarning: Series.__getitem__ treating keys as positions is deprecated. In a future version, integer keys will always be treated as labels (consistent with DataFrame behavior). To access a value by position, use `ser.iloc[pos]`\n",
      "  print('\\t' + str(val_counts.index[0]) + ': ' + str(val_counts[0]))\n",
      "C:\\Users\\vm140\\AppData\\Local\\Temp\\ipykernel_13784\\2745300598.py:8: FutureWarning: Series.__getitem__ treating keys as positions is deprecated. In a future version, integer keys will always be treated as labels (consistent with DataFrame behavior). To access a value by position, use `ser.iloc[pos]`\n",
      "  print('\\t' + str(val_counts.index[0]) + ': ' + str(val_counts[0]))\n",
      "C:\\Users\\vm140\\AppData\\Local\\Temp\\ipykernel_13784\\2745300598.py:8: FutureWarning: Series.__getitem__ treating keys as positions is deprecated. In a future version, integer keys will always be treated as labels (consistent with DataFrame behavior). To access a value by position, use `ser.iloc[pos]`\n",
      "  print('\\t' + str(val_counts.index[0]) + ': ' + str(val_counts[0]))\n",
      "C:\\Users\\vm140\\AppData\\Local\\Temp\\ipykernel_13784\\2745300598.py:8: FutureWarning: Series.__getitem__ treating keys as positions is deprecated. In a future version, integer keys will always be treated as labels (consistent with DataFrame behavior). To access a value by position, use `ser.iloc[pos]`\n",
      "  print('\\t' + str(val_counts.index[0]) + ': ' + str(val_counts[0]))\n",
      "C:\\Users\\vm140\\AppData\\Local\\Temp\\ipykernel_13784\\2745300598.py:8: FutureWarning: Series.__getitem__ treating keys as positions is deprecated. In a future version, integer keys will always be treated as labels (consistent with DataFrame behavior). To access a value by position, use `ser.iloc[pos]`\n",
      "  print('\\t' + str(val_counts.index[0]) + ': ' + str(val_counts[0]))\n",
      "C:\\Users\\vm140\\AppData\\Local\\Temp\\ipykernel_13784\\2745300598.py:8: FutureWarning: Series.__getitem__ treating keys as positions is deprecated. In a future version, integer keys will always be treated as labels (consistent with DataFrame behavior). To access a value by position, use `ser.iloc[pos]`\n",
      "  print('\\t' + str(val_counts.index[0]) + ': ' + str(val_counts[0]))\n",
      "C:\\Users\\vm140\\AppData\\Local\\Temp\\ipykernel_13784\\2745300598.py:8: FutureWarning: Series.__getitem__ treating keys as positions is deprecated. In a future version, integer keys will always be treated as labels (consistent with DataFrame behavior). To access a value by position, use `ser.iloc[pos]`\n",
      "  print('\\t' + str(val_counts.index[0]) + ': ' + str(val_counts[0]))\n"
     ]
    }
   ],
   "source": [
    "print_most_frequent_values(data_filled_e)"
   ],
   "metadata": {
    "collapsed": false,
    "ExecuteTime": {
     "end_time": "2024-01-12T22:34:32.085948Z",
     "start_time": "2024-01-12T22:34:31.965819Z"
    }
   },
   "id": "538775584bf01abc"
  }
 ],
 "metadata": {
  "kernelspec": {
   "display_name": "Python 3",
   "language": "python",
   "name": "python3"
  },
  "language_info": {
   "codemirror_mode": {
    "name": "ipython",
    "version": 2
   },
   "file_extension": ".py",
   "mimetype": "text/x-python",
   "name": "python",
   "nbconvert_exporter": "python",
   "pygments_lexer": "ipython2",
   "version": "2.7.6"
  }
 },
 "nbformat": 4,
 "nbformat_minor": 5
}
